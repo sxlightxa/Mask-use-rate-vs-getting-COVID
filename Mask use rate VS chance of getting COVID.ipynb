{
 "cells": [
  {
   "cell_type": "markdown",
   "id": "9db262b1",
   "metadata": {},
   "source": [
    "# How does mask-use rate impact on the chance of getting Covid in US?"
   ]
  },
  {
   "cell_type": "markdown",
   "id": "313ab10c",
   "metadata": {},
   "source": [
    "Each states are enforcing different face-covering policy and people also have different opinion on wearing mask to prevent COVID. New York Times published a report based on roughly 250,000 interviews conducted by Dynata from July 2 to July 14 in 2020, and the report estimates the percents of people in county-level that never/rarely/sometimes/frequently/always use face-covering in public. Does the mask-use rate actually impact the chance of people getting COVID? How does the mask-use rate affect the growth rate of COVID cases on each state based on it's population density?\n",
    "\n",
    "I will be analyzing the increase rate of confirmed COVID cases in each state based the state's mask-use to find out if wearing fask-covering has a linear relationship with the COVID increase rate. I would assume when a state uses mask more, the increase rate of COVID cases should be slower compare to other states with lower mask use rate. I will also look more into this analysis for states that have different population density separatly, and see how does the mask use rate impact COVID increase rate when a state is more populated.\n",
    "\n",
    "Let's start the analysis with download the neccesary libraries and packages we will be using."
   ]
  },
  {
   "cell_type": "code",
   "execution_count": 1,
   "id": "147c12a8",
   "metadata": {
    "collapsed": true
   },
   "outputs": [],
   "source": [
    "import numpy as np \n",
    "import pandas as pd \n",
    "import scipy as sp\n",
    "import matplotlib.pyplot as plt # plot\n",
    "from sklearn import linear_model # linear regression\n",
    "import statsmodels.api as sm\n",
    "from seaborn import heatmap"
   ]
  },
  {
   "cell_type": "markdown",
   "id": "88fadde9",
   "metadata": {},
   "source": [
    "### 1. Data downloading"
   ]
  },
  {
   "cell_type": "markdown",
   "id": "27cb44d2",
   "metadata": {},
   "source": [
    "We will be using three datasets in total. The first two COVID-related datasets come from the Github website: https://github.com/nytimes/covid-19-data/tree/bde13b021e99c6b4a63fb66a6144e889cc635e31. The first dataset is the daily report of the cummulative confirmed cases for each state of 2020. Now let's save the csv file to a dataframe name \"confirmed_df\". This dataframe inlcudes the reported date, state's name, state's FIPS code, and number of cummulative confirmed cases reported on the day for each state. Let's print the head of \"confirmed_df\" for a quick look."
   ]
  },
  {
   "cell_type": "code",
   "execution_count": 2,
   "id": "22d4310b",
   "metadata": {
    "scrolled": false
   },
   "outputs": [
    {
     "data": {
      "text/html": [
       "<div>\n",
       "<style scoped>\n",
       "    .dataframe tbody tr th:only-of-type {\n",
       "        vertical-align: middle;\n",
       "    }\n",
       "\n",
       "    .dataframe tbody tr th {\n",
       "        vertical-align: top;\n",
       "    }\n",
       "\n",
       "    .dataframe thead th {\n",
       "        text-align: right;\n",
       "    }\n",
       "</style>\n",
       "<table border=\"1\" class=\"dataframe\">\n",
       "  <thead>\n",
       "    <tr style=\"text-align: right;\">\n",
       "      <th></th>\n",
       "      <th>date</th>\n",
       "      <th>state</th>\n",
       "      <th>fips</th>\n",
       "      <th>cases</th>\n",
       "      <th>deaths</th>\n",
       "    </tr>\n",
       "  </thead>\n",
       "  <tbody>\n",
       "    <tr>\n",
       "      <th>0</th>\n",
       "      <td>2020-01-21</td>\n",
       "      <td>Washington</td>\n",
       "      <td>53</td>\n",
       "      <td>1</td>\n",
       "      <td>0</td>\n",
       "    </tr>\n",
       "    <tr>\n",
       "      <th>1</th>\n",
       "      <td>2020-01-22</td>\n",
       "      <td>Washington</td>\n",
       "      <td>53</td>\n",
       "      <td>1</td>\n",
       "      <td>0</td>\n",
       "    </tr>\n",
       "    <tr>\n",
       "      <th>2</th>\n",
       "      <td>2020-01-23</td>\n",
       "      <td>Washington</td>\n",
       "      <td>53</td>\n",
       "      <td>1</td>\n",
       "      <td>0</td>\n",
       "    </tr>\n",
       "    <tr>\n",
       "      <th>3</th>\n",
       "      <td>2020-01-24</td>\n",
       "      <td>Illinois</td>\n",
       "      <td>17</td>\n",
       "      <td>1</td>\n",
       "      <td>0</td>\n",
       "    </tr>\n",
       "    <tr>\n",
       "      <th>4</th>\n",
       "      <td>2020-01-24</td>\n",
       "      <td>Washington</td>\n",
       "      <td>53</td>\n",
       "      <td>1</td>\n",
       "      <td>0</td>\n",
       "    </tr>\n",
       "  </tbody>\n",
       "</table>\n",
       "</div>"
      ],
      "text/plain": [
       "         date       state  fips  cases  deaths\n",
       "0  2020-01-21  Washington    53      1       0\n",
       "1  2020-01-22  Washington    53      1       0\n",
       "2  2020-01-23  Washington    53      1       0\n",
       "3  2020-01-24    Illinois    17      1       0\n",
       "4  2020-01-24  Washington    53      1       0"
      ]
     },
     "metadata": {},
     "output_type": "display_data"
    }
   ],
   "source": [
    "confirmed_df=pd.read_csv('https://raw.githubusercontent.com/nytimes/covid-19-data/master/us-states.csv')\n",
    "display(confirmed_df.head(5))"
   ]
  },
  {
   "cell_type": "markdown",
   "id": "a6e8d75b",
   "metadata": {},
   "source": [
    "The second dataset is the estimated mask-use rate in each county provided by the New York Times and Dynata. Let's download the csv file to a dataframe name \"mask_use\". This dataset should includes the county's 5-digit FIPS code, and estimated percents of people who Never/ Rarely/ Sometimes/ Frequently/ Always use face-covering in each county. Let's also print the head of \"mask_use\" for a quick look."
   ]
  },
  {
   "cell_type": "code",
   "execution_count": 3,
   "id": "97317198",
   "metadata": {},
   "outputs": [
    {
     "data": {
      "text/html": [
       "<div>\n",
       "<style scoped>\n",
       "    .dataframe tbody tr th:only-of-type {\n",
       "        vertical-align: middle;\n",
       "    }\n",
       "\n",
       "    .dataframe tbody tr th {\n",
       "        vertical-align: top;\n",
       "    }\n",
       "\n",
       "    .dataframe thead th {\n",
       "        text-align: right;\n",
       "    }\n",
       "</style>\n",
       "<table border=\"1\" class=\"dataframe\">\n",
       "  <thead>\n",
       "    <tr style=\"text-align: right;\">\n",
       "      <th></th>\n",
       "      <th>COUNTYFP</th>\n",
       "      <th>NEVER</th>\n",
       "      <th>RARELY</th>\n",
       "      <th>SOMETIMES</th>\n",
       "      <th>FREQUENTLY</th>\n",
       "      <th>ALWAYS</th>\n",
       "    </tr>\n",
       "  </thead>\n",
       "  <tbody>\n",
       "    <tr>\n",
       "      <th>0</th>\n",
       "      <td>1001</td>\n",
       "      <td>0.053</td>\n",
       "      <td>0.074</td>\n",
       "      <td>0.134</td>\n",
       "      <td>0.295</td>\n",
       "      <td>0.444</td>\n",
       "    </tr>\n",
       "    <tr>\n",
       "      <th>1</th>\n",
       "      <td>1003</td>\n",
       "      <td>0.083</td>\n",
       "      <td>0.059</td>\n",
       "      <td>0.098</td>\n",
       "      <td>0.323</td>\n",
       "      <td>0.436</td>\n",
       "    </tr>\n",
       "    <tr>\n",
       "      <th>2</th>\n",
       "      <td>1005</td>\n",
       "      <td>0.067</td>\n",
       "      <td>0.121</td>\n",
       "      <td>0.120</td>\n",
       "      <td>0.201</td>\n",
       "      <td>0.491</td>\n",
       "    </tr>\n",
       "    <tr>\n",
       "      <th>3</th>\n",
       "      <td>1007</td>\n",
       "      <td>0.020</td>\n",
       "      <td>0.034</td>\n",
       "      <td>0.096</td>\n",
       "      <td>0.278</td>\n",
       "      <td>0.572</td>\n",
       "    </tr>\n",
       "    <tr>\n",
       "      <th>4</th>\n",
       "      <td>1009</td>\n",
       "      <td>0.053</td>\n",
       "      <td>0.114</td>\n",
       "      <td>0.180</td>\n",
       "      <td>0.194</td>\n",
       "      <td>0.459</td>\n",
       "    </tr>\n",
       "  </tbody>\n",
       "</table>\n",
       "</div>"
      ],
      "text/plain": [
       "   COUNTYFP  NEVER  RARELY  SOMETIMES  FREQUENTLY  ALWAYS\n",
       "0      1001  0.053   0.074      0.134       0.295   0.444\n",
       "1      1003  0.083   0.059      0.098       0.323   0.436\n",
       "2      1005  0.067   0.121      0.120       0.201   0.491\n",
       "3      1007  0.020   0.034      0.096       0.278   0.572\n",
       "4      1009  0.053   0.114      0.180       0.194   0.459"
      ]
     },
     "execution_count": 3,
     "metadata": {},
     "output_type": "execute_result"
    }
   ],
   "source": [
    "mask_use=pd.read_csv('https://raw.githubusercontent.com/nytimes/covid-19-data/master/mask-use/mask-use-by-county.csv')\n",
    "mask_use.head(5)"
   ]
  },
  {
   "cell_type": "markdown",
   "id": "d722b306",
   "metadata": {},
   "source": [
    "The last dataset is the population density by stated  from the link:  https://github.com/camillol/cs424p3/blob/master/data/Population-Density%20By%20State.csv. Let's download the csv file to a dataframe name \"population_density\" and print the head of the dataframe for a look."
   ]
  },
  {
   "cell_type": "code",
   "execution_count": 4,
   "id": "713233b1",
   "metadata": {},
   "outputs": [
    {
     "data": {
      "text/html": [
       "<div>\n",
       "<style scoped>\n",
       "    .dataframe tbody tr th:only-of-type {\n",
       "        vertical-align: middle;\n",
       "    }\n",
       "\n",
       "    .dataframe tbody tr th {\n",
       "        vertical-align: top;\n",
       "    }\n",
       "\n",
       "    .dataframe thead th {\n",
       "        text-align: right;\n",
       "    }\n",
       "</style>\n",
       "<table border=\"1\" class=\"dataframe\">\n",
       "  <thead>\n",
       "    <tr style=\"text-align: right;\">\n",
       "      <th></th>\n",
       "      <th>GEO.id</th>\n",
       "      <th>GEO.id2</th>\n",
       "      <th>GEO.display-label</th>\n",
       "      <th>Density per square mile of land area</th>\n",
       "    </tr>\n",
       "  </thead>\n",
       "  <tbody>\n",
       "    <tr>\n",
       "      <th>0</th>\n",
       "      <td>0400000US01</td>\n",
       "      <td>1</td>\n",
       "      <td>Alabama</td>\n",
       "      <td>94.4</td>\n",
       "    </tr>\n",
       "    <tr>\n",
       "      <th>1</th>\n",
       "      <td>0400000US02</td>\n",
       "      <td>2</td>\n",
       "      <td>Alaska</td>\n",
       "      <td>1.2</td>\n",
       "    </tr>\n",
       "    <tr>\n",
       "      <th>2</th>\n",
       "      <td>0400000US04</td>\n",
       "      <td>4</td>\n",
       "      <td>Arizona</td>\n",
       "      <td>56.3</td>\n",
       "    </tr>\n",
       "    <tr>\n",
       "      <th>3</th>\n",
       "      <td>0400000US05</td>\n",
       "      <td>5</td>\n",
       "      <td>Arkansas</td>\n",
       "      <td>56.0</td>\n",
       "    </tr>\n",
       "    <tr>\n",
       "      <th>4</th>\n",
       "      <td>0400000US06</td>\n",
       "      <td>6</td>\n",
       "      <td>California</td>\n",
       "      <td>239.1</td>\n",
       "    </tr>\n",
       "  </tbody>\n",
       "</table>\n",
       "</div>"
      ],
      "text/plain": [
       "        GEO.id  GEO.id2 GEO.display-label  \\\n",
       "0  0400000US01        1           Alabama   \n",
       "1  0400000US02        2            Alaska   \n",
       "2  0400000US04        4           Arizona   \n",
       "3  0400000US05        5          Arkansas   \n",
       "4  0400000US06        6        California   \n",
       "\n",
       "   Density per square mile of land area  \n",
       "0                                  94.4  \n",
       "1                                   1.2  \n",
       "2                                  56.3  \n",
       "3                                  56.0  \n",
       "4                                 239.1  "
      ]
     },
     "metadata": {},
     "output_type": "display_data"
    }
   ],
   "source": [
    "density_df=pd.read_csv('https://raw.githubusercontent.com/camillol/cs424p3/master/data/Population-Density%20By%20State.csv')\n",
    "display(density_df.head(5))"
   ]
  },
  {
   "cell_type": "markdown",
   "id": "78d6b2f1",
   "metadata": {},
   "source": [
    "### 2. Data cleaning and preprocessing"
   ]
  },
  {
   "cell_type": "markdown",
   "id": "c2da7f71",
   "metadata": {},
   "source": [
    "Now we have download the data to use in this analysis, and let's start with data cleaning and preprocessing. First, let's check if there is any missing or empty cell for all three dataframes."
   ]
  },
  {
   "cell_type": "code",
   "execution_count": 5,
   "id": "b6aec925",
   "metadata": {},
   "outputs": [
    {
     "name": "stdout",
     "output_type": "stream",
     "text": [
      "False False False\n"
     ]
    }
   ],
   "source": [
    "c=confirmed_df.isnull().values.any()\n",
    "m=mask_use.isnull().values.any()\n",
    "d=density_df.isnull().values.any()\n",
    "print(c,m,d)"
   ]
  },
  {
   "cell_type": "markdown",
   "id": "32400422",
   "metadata": {},
   "source": [
    "We have confirmed there is no empty cells in all three dataframes and they are ready to use.\n"
   ]
  },
  {
   "cell_type": "markdown",
   "id": "5fd41caf",
   "metadata": {},
   "source": [
    "#### Part I. Confirmed_df"
   ]
  },
  {
   "cell_type": "markdown",
   "id": "136c520f",
   "metadata": {},
   "source": [
    "Now let's start with some data preparation for our first dataset \"confirmed_df\". Because the survey was taken place in July 2020 and the mask mandatory policy can change afterwards which makes the estimation be very different, we only want to focus on a relatively short range of time period so we can assume the maks_use rate is constant. We will filter the data from May to July 2020, and we will run analysis on each month of May, June and July, and their average to avoid bias. Because the number of confirmed cases are cummulative, and we are interested in seeing the monthly increase rate, which is the number of newly cases compare to the number in the beginning of the month, per each state.\n",
    "\n",
    "Let's start with May, we will create a new column to record the number of confirmed cases of each state in the beginning of the month as \"May_begin\" and in last date of the month as \"May_end\". Then we will calculate the May increase rate by divide the increase number (May_end - May_begin) by \"May_begin\", and save as \"May_increase_rate\". For better clarificaiton, we will also have \"May_increase_percent\" column showing the increase rate in percentage.\\\n",
    "\\\n",
    "May Increase rate= (# cases at May end - # cases at May begin) / # cases at May begin "
   ]
  },
  {
   "cell_type": "code",
   "execution_count": 6,
   "id": "b7b3149f",
   "metadata": {
    "scrolled": true
   },
   "outputs": [
    {
     "data": {
      "text/html": [
       "<div>\n",
       "<style scoped>\n",
       "    .dataframe tbody tr th:only-of-type {\n",
       "        vertical-align: middle;\n",
       "    }\n",
       "\n",
       "    .dataframe tbody tr th {\n",
       "        vertical-align: top;\n",
       "    }\n",
       "\n",
       "    .dataframe thead th {\n",
       "        text-align: right;\n",
       "    }\n",
       "</style>\n",
       "<table border=\"1\" class=\"dataframe\">\n",
       "  <thead>\n",
       "    <tr style=\"text-align: right;\">\n",
       "      <th></th>\n",
       "      <th>state</th>\n",
       "      <th>May_begin</th>\n",
       "      <th>May_end</th>\n",
       "      <th>May_increase_rate</th>\n",
       "      <th>May_increase_percent</th>\n",
       "    </tr>\n",
       "  </thead>\n",
       "  <tbody>\n",
       "    <tr>\n",
       "      <th>24</th>\n",
       "      <td>Minnesota</td>\n",
       "      <td>5730</td>\n",
       "      <td>24860</td>\n",
       "      <td>3.338569</td>\n",
       "      <td>333.86%</td>\n",
       "    </tr>\n",
       "    <tr>\n",
       "      <th>28</th>\n",
       "      <td>Nebraska</td>\n",
       "      <td>4838</td>\n",
       "      <td>14101</td>\n",
       "      <td>1.914634</td>\n",
       "      <td>191.46%</td>\n",
       "    </tr>\n",
       "    <tr>\n",
       "      <th>50</th>\n",
       "      <td>Virginia</td>\n",
       "      <td>16901</td>\n",
       "      <td>44607</td>\n",
       "      <td>1.639311</td>\n",
       "      <td>163.93%</td>\n",
       "    </tr>\n",
       "  </tbody>\n",
       "</table>\n",
       "</div>"
      ],
      "text/plain": [
       "        state  May_begin  May_end  May_increase_rate May_increase_percent\n",
       "24  Minnesota       5730    24860           3.338569              333.86%\n",
       "28   Nebraska       4838    14101           1.914634              191.46%\n",
       "50   Virginia      16901    44607           1.639311              163.93%"
      ]
     },
     "execution_count": 6,
     "metadata": {},
     "output_type": "execute_result"
    }
   ],
   "source": [
    "May_begin=confirmed_df[confirmed_df['date']=='2020-05-01'].rename(columns={'cases':'May_begin'})\n",
    "May_end=confirmed_df[confirmed_df['date']=='2020-05-31'].rename(columns={'cases':'May_end'})\n",
    "May_df=May_begin.merge(May_end,on=['state'])\n",
    "May_df['May_increase_rate']=(May_df['May_end']-May_df['May_begin'])/May_df['May_begin']\n",
    "May_df['May_increase_percent'] = pd.Series([\"{0:.2%}\".format(val) for val in May_df['May_increase_rate']],index = May_df.index)\n",
    "May_df['May_increase_percent'] = pd.Series([\"{0:.2%}\".format(val) for val in May_df['May_increase_rate']],index = May_df.index)\n",
    "\n",
    "May_df=May_df[['state','May_begin','May_end','May_increase_rate','May_increase_percent']].sort_values(by='May_increase_rate', ascending=False)\n",
    "May_df.head(3)"
   ]
  },
  {
   "cell_type": "code",
   "execution_count": 7,
   "id": "a152d1a3",
   "metadata": {},
   "outputs": [
    {
     "name": "stdout",
     "output_type": "stream",
     "text": [
      "The data has a total of 55 states.\n"
     ]
    }
   ],
   "source": [
    "state_count=len(May_df['state'])\n",
    "print('The data has a total of ' + str(state_count) + ' states.')"
   ]
  },
  {
   "cell_type": "markdown",
   "id": "2b9fc896",
   "metadata": {},
   "source": [
    "Let's observe the increase rate in May for each state with a histogram to see the distribution."
   ]
  },
  {
   "cell_type": "code",
   "execution_count": 8,
   "id": "2424a54c",
   "metadata": {
    "scrolled": true
   },
   "outputs": [
    {
     "data": {
      "image/png": "[encoded data removed]",
      "text/plain": [
       "<Figure size 504x360 with 1 Axes>"
      ]
     },
     "metadata": {
      "needs_background": "light"
     },
     "output_type": "display_data"
    }
   ],
   "source": [
    "plt.figure(figsize=(7,5))\n",
    "plt.hist(May_df['May_increase_rate'],bins=state_count,color='gold')\n",
    "plt.title(\"US States' COVID Cases Increase Rate in May 2020\")\n",
    "plt.xlabel('Increase Rate')\n",
    "plt.ylabel('Number of states')\n",
    "plt.show()"
   ]
  },
  {
   "cell_type": "markdown",
   "id": "935a9717",
   "metadata": {},
   "source": [
    "We can see the May histogram look a little right skewed, the peak increase rate is around 0.7 to 1.2, and the majority of the increase rate for all states is between 0 to 1.5. Now let's do the same to observe the increase rate in June."
   ]
  },
  {
   "cell_type": "code",
   "execution_count": 9,
   "id": "94971e20",
   "metadata": {
    "scrolled": false
   },
   "outputs": [
    {
     "data": {
      "text/html": [
       "<div>\n",
       "<style scoped>\n",
       "    .dataframe tbody tr th:only-of-type {\n",
       "        vertical-align: middle;\n",
       "    }\n",
       "\n",
       "    .dataframe tbody tr th {\n",
       "        vertical-align: top;\n",
       "    }\n",
       "\n",
       "    .dataframe thead th {\n",
       "        text-align: right;\n",
       "    }\n",
       "</style>\n",
       "<table border=\"1\" class=\"dataframe\">\n",
       "  <thead>\n",
       "    <tr style=\"text-align: right;\">\n",
       "      <th></th>\n",
       "      <th>state</th>\n",
       "      <th>June_begin</th>\n",
       "      <th>June_end</th>\n",
       "      <th>June_increase_rate</th>\n",
       "      <th>June_increase_percent</th>\n",
       "    </tr>\n",
       "  </thead>\n",
       "  <tbody>\n",
       "    <tr>\n",
       "      <th>2</th>\n",
       "      <td>Arizona</td>\n",
       "      <td>20123</td>\n",
       "      <td>79399</td>\n",
       "      <td>2.945684</td>\n",
       "      <td>294.57%</td>\n",
       "    </tr>\n",
       "    <tr>\n",
       "      <th>43</th>\n",
       "      <td>South Carolina</td>\n",
       "      <td>12148</td>\n",
       "      <td>36399</td>\n",
       "      <td>1.996296</td>\n",
       "      <td>199.63%</td>\n",
       "    </tr>\n",
       "    <tr>\n",
       "      <th>3</th>\n",
       "      <td>Arkansas</td>\n",
       "      <td>7443</td>\n",
       "      <td>20777</td>\n",
       "      <td>1.791482</td>\n",
       "      <td>179.15%</td>\n",
       "    </tr>\n",
       "  </tbody>\n",
       "</table>\n",
       "</div>"
      ],
      "text/plain": [
       "             state  June_begin  June_end  June_increase_rate  \\\n",
       "2          Arizona       20123     79399            2.945684   \n",
       "43  South Carolina       12148     36399            1.996296   \n",
       "3         Arkansas        7443     20777            1.791482   \n",
       "\n",
       "   June_increase_percent  \n",
       "2                294.57%  \n",
       "43               199.63%  \n",
       "3                179.15%  "
      ]
     },
     "execution_count": 9,
     "metadata": {},
     "output_type": "execute_result"
    }
   ],
   "source": [
    "June_begin=confirmed_df[confirmed_df['date']=='2020-06-01'].rename(columns={'cases':'June_begin'})\n",
    "June_end=confirmed_df[confirmed_df['date']=='2020-06-30'].rename(columns={'cases':'June_end'})\n",
    "June_df=June_begin.merge(June_end,on=['state'])\n",
    "June_df['June_increase_rate']=(June_df['June_end']-June_df['June_begin'])/June_df['June_begin']\n",
    "June_df['June_increase_percent'] = pd.Series([\"{0:.2%}\".format(val) for val in June_df['June_increase_rate']],index = June_df.index)\n",
    "June_df=June_df[['state','June_begin','June_end','June_increase_rate','June_increase_percent']].sort_values(by='June_increase_rate', ascending=False)\n",
    "June_df.head(3)"
   ]
  },
  {
   "cell_type": "markdown",
   "id": "503d0577",
   "metadata": {},
   "source": [
    "Let's plot a histogram to visualize the increase rate of June, 2020."
   ]
  },
  {
   "cell_type": "code",
   "execution_count": 10,
   "id": "92009032",
   "metadata": {
    "scrolled": true
   },
   "outputs": [
    {
     "data": {
      "image/png": "[encoded data removed]",
      "text/plain": [
       "<Figure size 504x360 with 1 Axes>"
      ]
     },
     "metadata": {
      "needs_background": "light"
     },
     "output_type": "display_data"
    }
   ],
   "source": [
    "plt.figure(figsize=(7,5))\n",
    "plt.hist(June_df['June_increase_rate'],bins=state_count,color='tomato')\n",
    "plt.title(\"US States' COVID Cases Increase Rate in June 2020\")\n",
    "plt.xlabel('Increase Rate')\n",
    "plt.ylabel('Number of states')\n",
    "plt.show()"
   ]
  },
  {
   "cell_type": "markdown",
   "id": "a1f2e971",
   "metadata": {},
   "source": [
    "June's data looks more right skewed than May, and the peak increase rate is now 0.5, the overall increase rate shifted to left since May, meaning the overall increase rate has been decreasing."
   ]
  },
  {
   "cell_type": "code",
   "execution_count": 11,
   "id": "b169ca10",
   "metadata": {
    "scrolled": true
   },
   "outputs": [
    {
     "data": {
      "text/html": [
       "<div>\n",
       "<style scoped>\n",
       "    .dataframe tbody tr th:only-of-type {\n",
       "        vertical-align: middle;\n",
       "    }\n",
       "\n",
       "    .dataframe tbody tr th {\n",
       "        vertical-align: top;\n",
       "    }\n",
       "\n",
       "    .dataframe thead th {\n",
       "        text-align: right;\n",
       "    }\n",
       "</style>\n",
       "<table border=\"1\" class=\"dataframe\">\n",
       "  <thead>\n",
       "    <tr style=\"text-align: right;\">\n",
       "      <th></th>\n",
       "      <th>state</th>\n",
       "      <th>July_begin</th>\n",
       "      <th>July_end</th>\n",
       "      <th>July_increase_rate</th>\n",
       "      <th>July_increase_percent</th>\n",
       "    </tr>\n",
       "  </thead>\n",
       "  <tbody>\n",
       "    <tr>\n",
       "      <th>49</th>\n",
       "      <td>Virgin Islands</td>\n",
       "      <td>92</td>\n",
       "      <td>406</td>\n",
       "      <td>3.413043</td>\n",
       "      <td>341.30%</td>\n",
       "    </tr>\n",
       "    <tr>\n",
       "      <th>27</th>\n",
       "      <td>Montana</td>\n",
       "      <td>1016</td>\n",
       "      <td>3977</td>\n",
       "      <td>2.914370</td>\n",
       "      <td>291.44%</td>\n",
       "    </tr>\n",
       "    <tr>\n",
       "      <th>13</th>\n",
       "      <td>Idaho</td>\n",
       "      <td>6379</td>\n",
       "      <td>20853</td>\n",
       "      <td>2.269008</td>\n",
       "      <td>226.90%</td>\n",
       "    </tr>\n",
       "  </tbody>\n",
       "</table>\n",
       "</div>"
      ],
      "text/plain": [
       "             state  July_begin  July_end  July_increase_rate  \\\n",
       "49  Virgin Islands          92       406            3.413043   \n",
       "27         Montana        1016      3977            2.914370   \n",
       "13           Idaho        6379     20853            2.269008   \n",
       "\n",
       "   July_increase_percent  \n",
       "49               341.30%  \n",
       "27               291.44%  \n",
       "13               226.90%  "
      ]
     },
     "execution_count": 11,
     "metadata": {},
     "output_type": "execute_result"
    }
   ],
   "source": [
    "July_begin=confirmed_df[confirmed_df['date']=='2020-07-01'].rename(columns={'cases':'July_begin'})\n",
    "July_end=confirmed_df[confirmed_df['date']=='2020-07-31'].rename(columns={'cases':'July_end'})\n",
    "July_df=July_begin.merge(July_end,on=['state'])\n",
    "July_df['July_increase_rate']=(July_df['July_end']-July_df['July_begin'])/July_df['July_begin']\n",
    "July_df['July_increase_percent'] = pd.Series([\"{0:.2%}\".format(val) for val in July_df['July_increase_rate']],index = July_df.index)\n",
    "July_df=July_df[['state','July_begin','July_end','July_increase_rate','July_increase_percent']].sort_values(by='July_increase_rate', ascending=False)\n",
    "July_df.head(3)\n"
   ]
  },
  {
   "cell_type": "code",
   "execution_count": 12,
   "id": "cc5a9548",
   "metadata": {
    "scrolled": true
   },
   "outputs": [
    {
     "data": {
      "image/png": "[encoded data removed]",
      "text/plain": [
       "<Figure size 504x360 with 1 Axes>"
      ]
     },
     "metadata": {
      "needs_background": "light"
     },
     "output_type": "display_data"
    }
   ],
   "source": [
    "plt.figure(figsize=(7,5))\n",
    "plt.hist(July_df['July_increase_rate'],bins=state_count,color='brown')\n",
    "plt.title(\"US States' COVID Cases Increase Rate in July 2020\")\n",
    "plt.xlabel('Increase Rate')\n",
    "plt.ylabel('Number of states')\n",
    "plt.show()"
   ]
  },
  {
   "cell_type": "markdown",
   "id": "4e35e6b2",
   "metadata": {},
   "source": [
    "The peak increase rate decreased to around 0.25 now, but the overall increase rate increased since June."
   ]
  },
  {
   "cell_type": "markdown",
   "id": "4d0fd5b4",
   "metadata": {},
   "source": [
    "Let's put all three months in the same graph to check if we can see any obvisou pattern."
   ]
  },
  {
   "cell_type": "code",
   "execution_count": 13,
   "id": "af226cd7",
   "metadata": {
    "scrolled": true
   },
   "outputs": [
    {
     "data": {
      "image/png": "[encoded data removed]",
      "text/plain": [
       "<Figure size 504x360 with 1 Axes>"
      ]
     },
     "metadata": {
      "needs_background": "light"
     },
     "output_type": "display_data"
    }
   ],
   "source": [
    "plt.figure(figsize=(7,5))\n",
    "plt.hist(May_df['May_increase_rate'],bins=state_count,color='gold')\n",
    "plt.hist(June_df['June_increase_rate'],bins=state_count,color='tomato')\n",
    "plt.hist(July_df['July_increase_rate'],bins=state_count,color='brown')\n",
    "plt.title(\"US States' COVID Cases Increase Rate in May/June/July 2020\")\n",
    "plt.xlabel('Increase Rate')\n",
    "plt.ylabel('Number of states')\n",
    "plt.gca().legend(['May','June','July'])\n",
    "plt.show()"
   ]
  },
  {
   "cell_type": "markdown",
   "id": "8f4577c4",
   "metadata": {},
   "source": [
    "From plotting three months together, we observed the peak increase rate have been decreasing over time, but the overall rate went down a little bit from May to June, then increase from June to July. We have observed no significant trend over these three-month interval, so let's also use the average increase rate for three months to eliminate prediction errors."
   ]
  },
  {
   "cell_type": "markdown",
   "id": "05bdfec4",
   "metadata": {},
   "source": [
    "Let's create a new dataframe called \"merge_df\" by merging the three dataframes, then calculate the \"total_increase_rate\" and \"total_increase_percent\" for over three months, and sort by the average increase rate. Let's print the head of this table.\n",
    "\n",
    "Avg Increase rate= (# cases at July end - # cases at May begin) / # cases at May begin "
   ]
  },
  {
   "cell_type": "code",
   "execution_count": 14,
   "id": "1e3eca12",
   "metadata": {
    "scrolled": true
   },
   "outputs": [
    {
     "data": {
      "text/html": [
       "<div>\n",
       "<style scoped>\n",
       "    .dataframe tbody tr th:only-of-type {\n",
       "        vertical-align: middle;\n",
       "    }\n",
       "\n",
       "    .dataframe tbody tr th {\n",
       "        vertical-align: top;\n",
       "    }\n",
       "\n",
       "    .dataframe thead th {\n",
       "        text-align: right;\n",
       "    }\n",
       "</style>\n",
       "<table border=\"1\" class=\"dataframe\">\n",
       "  <thead>\n",
       "    <tr style=\"text-align: right;\">\n",
       "      <th></th>\n",
       "      <th>state</th>\n",
       "      <th>May_begin</th>\n",
       "      <th>May_end</th>\n",
       "      <th>May_increase_rate</th>\n",
       "      <th>May_increase_percent</th>\n",
       "      <th>June_begin</th>\n",
       "      <th>June_end</th>\n",
       "      <th>June_increase_rate</th>\n",
       "      <th>June_increase_percent</th>\n",
       "      <th>July_begin</th>\n",
       "      <th>July_end</th>\n",
       "      <th>July_increase_rate</th>\n",
       "      <th>July_increase_percent</th>\n",
       "      <th>total_increase_rate</th>\n",
       "      <th>total_increase_percent</th>\n",
       "    </tr>\n",
       "  </thead>\n",
       "  <tbody>\n",
       "    <tr>\n",
       "      <th>5</th>\n",
       "      <td>Arizona</td>\n",
       "      <td>7962</td>\n",
       "      <td>19936</td>\n",
       "      <td>1.503893</td>\n",
       "      <td>150.39%</td>\n",
       "      <td>20123</td>\n",
       "      <td>79399</td>\n",
       "      <td>2.945684</td>\n",
       "      <td>294.57%</td>\n",
       "      <td>84152</td>\n",
       "      <td>174108</td>\n",
       "      <td>1.068970</td>\n",
       "      <td>106.90%</td>\n",
       "      <td>20.867370</td>\n",
       "      <td>2086.74%</td>\n",
       "    </tr>\n",
       "    <tr>\n",
       "      <th>17</th>\n",
       "      <td>Texas</td>\n",
       "      <td>30342</td>\n",
       "      <td>64974</td>\n",
       "      <td>1.141388</td>\n",
       "      <td>114.14%</td>\n",
       "      <td>66081</td>\n",
       "      <td>166703</td>\n",
       "      <td>1.522707</td>\n",
       "      <td>152.27%</td>\n",
       "      <td>174826</td>\n",
       "      <td>443090</td>\n",
       "      <td>1.534463</td>\n",
       "      <td>153.45%</td>\n",
       "      <td>13.603190</td>\n",
       "      <td>1360.32%</td>\n",
       "    </tr>\n",
       "    <tr>\n",
       "      <th>25</th>\n",
       "      <td>South Carolina</td>\n",
       "      <td>6258</td>\n",
       "      <td>11861</td>\n",
       "      <td>0.895334</td>\n",
       "      <td>89.53%</td>\n",
       "      <td>12148</td>\n",
       "      <td>36399</td>\n",
       "      <td>1.996296</td>\n",
       "      <td>199.63%</td>\n",
       "      <td>37919</td>\n",
       "      <td>89016</td>\n",
       "      <td>1.347530</td>\n",
       "      <td>134.75%</td>\n",
       "      <td>13.224353</td>\n",
       "      <td>1322.44%</td>\n",
       "    </tr>\n",
       "  </tbody>\n",
       "</table>\n",
       "</div>"
      ],
      "text/plain": [
       "             state  May_begin  May_end  May_increase_rate  \\\n",
       "5          Arizona       7962    19936           1.503893   \n",
       "17           Texas      30342    64974           1.141388   \n",
       "25  South Carolina       6258    11861           0.895334   \n",
       "\n",
       "   May_increase_percent  June_begin  June_end  June_increase_rate  \\\n",
       "5               150.39%       20123     79399            2.945684   \n",
       "17              114.14%       66081    166703            1.522707   \n",
       "25               89.53%       12148     36399            1.996296   \n",
       "\n",
       "   June_increase_percent  July_begin  July_end  July_increase_rate  \\\n",
       "5                294.57%       84152    174108            1.068970   \n",
       "17               152.27%      174826    443090            1.534463   \n",
       "25               199.63%       37919     89016            1.347530   \n",
       "\n",
       "   July_increase_percent  total_increase_rate total_increase_percent  \n",
       "5                106.90%            20.867370               2086.74%  \n",
       "17               153.45%            13.603190               1360.32%  \n",
       "25               134.75%            13.224353               1322.44%  "
      ]
     },
     "execution_count": 14,
     "metadata": {},
     "output_type": "execute_result"
    }
   ],
   "source": [
    "merge_df=May_df.merge(June_df,on='state').merge(July_df,on='state')\n",
    "merge_df['total_increase_rate']=(merge_df['July_end']-merge_df['May_begin'])/merge_df['May_begin']\n",
    "merge_df['total_increase_percent']=pd.Series([\"{0:.2%}\".format(val) for val in merge_df['total_increase_rate']],index = merge_df.index)\n",
    "merge_df=merge_df.sort_values(by='total_increase_rate', ascending=False)\n",
    "merge_df.head(3)\n"
   ]
  },
  {
   "cell_type": "markdown",
   "id": "5225cde5",
   "metadata": {},
   "source": [
    "Then let's save only the states and our four increase rates into a new dataframe \"increase_rate_df\". Let's print the top five states with highest avg increase rate. "
   ]
  },
  {
   "cell_type": "code",
   "execution_count": 15,
   "id": "d6f228a1",
   "metadata": {},
   "outputs": [
    {
     "data": {
      "text/html": [
       "<div>\n",
       "<style scoped>\n",
       "    .dataframe tbody tr th:only-of-type {\n",
       "        vertical-align: middle;\n",
       "    }\n",
       "\n",
       "    .dataframe tbody tr th {\n",
       "        vertical-align: top;\n",
       "    }\n",
       "\n",
       "    .dataframe thead th {\n",
       "        text-align: right;\n",
       "    }\n",
       "</style>\n",
       "<table border=\"1\" class=\"dataframe\">\n",
       "  <thead>\n",
       "    <tr style=\"text-align: right;\">\n",
       "      <th></th>\n",
       "      <th>state</th>\n",
       "      <th>May_increase_rate</th>\n",
       "      <th>June_increase_rate</th>\n",
       "      <th>July_increase_rate</th>\n",
       "      <th>total_increase_rate</th>\n",
       "    </tr>\n",
       "  </thead>\n",
       "  <tbody>\n",
       "    <tr>\n",
       "      <th>5</th>\n",
       "      <td>Arizona</td>\n",
       "      <td>1.503893</td>\n",
       "      <td>2.945684</td>\n",
       "      <td>1.068970</td>\n",
       "      <td>20.867370</td>\n",
       "    </tr>\n",
       "    <tr>\n",
       "      <th>17</th>\n",
       "      <td>Texas</td>\n",
       "      <td>1.141388</td>\n",
       "      <td>1.522707</td>\n",
       "      <td>1.534463</td>\n",
       "      <td>13.603190</td>\n",
       "    </tr>\n",
       "    <tr>\n",
       "      <th>25</th>\n",
       "      <td>South Carolina</td>\n",
       "      <td>0.895334</td>\n",
       "      <td>1.996296</td>\n",
       "      <td>1.347530</td>\n",
       "      <td>13.224353</td>\n",
       "    </tr>\n",
       "    <tr>\n",
       "      <th>37</th>\n",
       "      <td>Florida</td>\n",
       "      <td>0.617368</td>\n",
       "      <td>1.682517</td>\n",
       "      <td>1.958557</td>\n",
       "      <td>12.547753</td>\n",
       "    </tr>\n",
       "    <tr>\n",
       "      <th>11</th>\n",
       "      <td>Arkansas</td>\n",
       "      <td>1.191239</td>\n",
       "      <td>1.791482</td>\n",
       "      <td>1.005520</td>\n",
       "      <td>11.843202</td>\n",
       "    </tr>\n",
       "  </tbody>\n",
       "</table>\n",
       "</div>"
      ],
      "text/plain": [
       "             state  May_increase_rate  June_increase_rate  July_increase_rate  \\\n",
       "5          Arizona           1.503893            2.945684            1.068970   \n",
       "17           Texas           1.141388            1.522707            1.534463   \n",
       "25  South Carolina           0.895334            1.996296            1.347530   \n",
       "37         Florida           0.617368            1.682517            1.958557   \n",
       "11        Arkansas           1.191239            1.791482            1.005520   \n",
       "\n",
       "    total_increase_rate  \n",
       "5             20.867370  \n",
       "17            13.603190  \n",
       "25            13.224353  \n",
       "37            12.547753  \n",
       "11            11.843202  "
      ]
     },
     "execution_count": 15,
     "metadata": {},
     "output_type": "execute_result"
    }
   ],
   "source": [
    "increase_rate_df=merge_df[['state','May_increase_rate','June_increase_rate','July_increase_rate','total_increase_rate']]\n",
    "increase_rate_df=increase_rate_df.sort_values(by='total_increase_rate', ascending=False)\n",
    "#increase_percent_df=merge_df[['state','May_increase_percent','June_increase_percent','July_increase_percent','avg_increase_percent']]\n",
    "increase_rate_df.head(5)"
   ]
  },
  {
   "cell_type": "markdown",
   "id": "f120fb83",
   "metadata": {},
   "source": [
    "As shown above, Arizona has the highest COVID case increase rate from May to July 2020, which means the number of confirmed cases in July increased around 21 times since May. And followed by Florida, Alaska, Montana, and South Carolina."
   ]
  },
  {
   "cell_type": "markdown",
   "id": "cf08877e",
   "metadata": {},
   "source": [
    "Now let's observe the histogram of the distribution of the average increase rate for all states."
   ]
  },
  {
   "cell_type": "code",
   "execution_count": 16,
   "id": "3f1b6106",
   "metadata": {
    "scrolled": true
   },
   "outputs": [
    {
     "data": {
      "image/png": "[encoded data removed]",
      "text/plain": [
       "<Figure size 504x360 with 1 Axes>"
      ]
     },
     "metadata": {
      "needs_background": "light"
     },
     "output_type": "display_data"
    }
   ],
   "source": [
    "plt.figure(figsize=(7,5))\n",
    "plt.hist(merge_df['total_increase_rate'],bins=state_count,color='orange')\n",
    "plt.title(\"US States' Avg COVID Cases Increase Rate From May to July 2020\")\n",
    "plt.xlabel('Increase Rate')\n",
    "plt.ylabel('Number of states')\n",
    "plt.show()"
   ]
  },
  {
   "cell_type": "markdown",
   "id": "162eb9bb",
   "metadata": {},
   "source": [
    "The total three-month-interval increase rate is also very right skewed, the peak increase rate is at 2, which means the most states have increased their COVID confirm cases about 200% in three months. The majority of increase rate are within 1-10 times. "
   ]
  },
  {
   "cell_type": "markdown",
   "id": "cd130abc",
   "metadata": {},
   "source": [
    "#### Part II. State_FIPS "
   ]
  },
  {
   "cell_type": "markdown",
   "id": "5bc979e0",
   "metadata": {},
   "source": [
    "Because we may use the state and it's FIPS code later, let's save a copy of each state and their corresponding state FIPS code and store in a dataframe \"state_FIPS\". We also run \"drop_dupilicates\" function to make sure we get unique value of states' FIPS code. We noticed the state's FIPS code not always in 2 digits, so we should also format the states' FIPS code to 2 digits, then print a head of this new dataframe we created."
   ]
  },
  {
   "cell_type": "code",
   "execution_count": 17,
   "id": "d3746397",
   "metadata": {
    "scrolled": false
   },
   "outputs": [
    {
     "data": {
      "text/html": [
       "<div>\n",
       "<style scoped>\n",
       "    .dataframe tbody tr th:only-of-type {\n",
       "        vertical-align: middle;\n",
       "    }\n",
       "\n",
       "    .dataframe tbody tr th {\n",
       "        vertical-align: top;\n",
       "    }\n",
       "\n",
       "    .dataframe thead th {\n",
       "        text-align: right;\n",
       "    }\n",
       "</style>\n",
       "<table border=\"1\" class=\"dataframe\">\n",
       "  <thead>\n",
       "    <tr style=\"text-align: right;\">\n",
       "      <th></th>\n",
       "      <th>state</th>\n",
       "      <th>fips</th>\n",
       "    </tr>\n",
       "  </thead>\n",
       "  <tbody>\n",
       "    <tr>\n",
       "      <th>0</th>\n",
       "      <td>Washington</td>\n",
       "      <td>53</td>\n",
       "    </tr>\n",
       "    <tr>\n",
       "      <th>3</th>\n",
       "      <td>Illinois</td>\n",
       "      <td>17</td>\n",
       "    </tr>\n",
       "    <tr>\n",
       "      <th>5</th>\n",
       "      <td>California</td>\n",
       "      <td>06</td>\n",
       "    </tr>\n",
       "    <tr>\n",
       "      <th>8</th>\n",
       "      <td>Arizona</td>\n",
       "      <td>04</td>\n",
       "    </tr>\n",
       "    <tr>\n",
       "      <th>35</th>\n",
       "      <td>Massachusetts</td>\n",
       "      <td>25</td>\n",
       "    </tr>\n",
       "  </tbody>\n",
       "</table>\n",
       "</div>"
      ],
      "text/plain": [
       "            state fips\n",
       "0      Washington   53\n",
       "3        Illinois   17\n",
       "5      California   06\n",
       "8         Arizona   04\n",
       "35  Massachusetts   25"
      ]
     },
     "metadata": {},
     "output_type": "display_data"
    }
   ],
   "source": [
    "state_FIPS=confirmed_df[['state','fips']].drop_duplicates()\n",
    "state_FIPS['fips']=state_FIPS['fips'].astype(str).str.zfill(2)\n",
    "display(state_FIPS[:5])"
   ]
  },
  {
   "cell_type": "markdown",
   "id": "01776596",
   "metadata": {},
   "source": [
    "#### Part III. Mask_use "
   ]
  },
  {
   "cell_type": "markdown",
   "id": "fb56481c",
   "metadata": {},
   "source": [
    "Now let's preprocessing the third dataframe, \"mask_use\". Because the data has 5 categorical value (Never, Rarely, Sometimes, Frequently, Always), we will calculate a \"mask_use_score\" value for each county by applying categorical value where Never=0, Rarely=1, Sometimes=2, Frequently=3, Always=4, and multiply each category with their percentage and sum all together. Lastly, add a new column \"mask_use_rank\" to rank the mask use score for each county from highest=1 (use the most mask).\n",
    "\n",
    "mask_use_score= NEVER * 0 + RARELY * 1 + SOMETIMES * 2 + FREQUENTLY * 3 + ALWAYS * 4"
   ]
  },
  {
   "cell_type": "code",
   "execution_count": 18,
   "id": "e925755e",
   "metadata": {
    "scrolled": true
   },
   "outputs": [
    {
     "data": {
      "text/html": [
       "<div>\n",
       "<style scoped>\n",
       "    .dataframe tbody tr th:only-of-type {\n",
       "        vertical-align: middle;\n",
       "    }\n",
       "\n",
       "    .dataframe tbody tr th {\n",
       "        vertical-align: top;\n",
       "    }\n",
       "\n",
       "    .dataframe thead th {\n",
       "        text-align: right;\n",
       "    }\n",
       "</style>\n",
       "<table border=\"1\" class=\"dataframe\">\n",
       "  <thead>\n",
       "    <tr style=\"text-align: right;\">\n",
       "      <th></th>\n",
       "      <th>COUNTYFP</th>\n",
       "      <th>NEVER</th>\n",
       "      <th>RARELY</th>\n",
       "      <th>SOMETIMES</th>\n",
       "      <th>FREQUENTLY</th>\n",
       "      <th>ALWAYS</th>\n",
       "      <th>mask_use_score</th>\n",
       "    </tr>\n",
       "  </thead>\n",
       "  <tbody>\n",
       "    <tr>\n",
       "      <th>1889</th>\n",
       "      <td>36123</td>\n",
       "      <td>0.000</td>\n",
       "      <td>0.006</td>\n",
       "      <td>0.023</td>\n",
       "      <td>0.087</td>\n",
       "      <td>0.884</td>\n",
       "      <td>3.849</td>\n",
       "    </tr>\n",
       "    <tr>\n",
       "      <th>202</th>\n",
       "      <td>6033</td>\n",
       "      <td>0.003</td>\n",
       "      <td>0.004</td>\n",
       "      <td>0.007</td>\n",
       "      <td>0.136</td>\n",
       "      <td>0.849</td>\n",
       "      <td>3.822</td>\n",
       "    </tr>\n",
       "    <tr>\n",
       "      <th>2627</th>\n",
       "      <td>48209</td>\n",
       "      <td>0.000</td>\n",
       "      <td>0.007</td>\n",
       "      <td>0.022</td>\n",
       "      <td>0.115</td>\n",
       "      <td>0.855</td>\n",
       "      <td>3.816</td>\n",
       "    </tr>\n",
       "  </tbody>\n",
       "</table>\n",
       "</div>"
      ],
      "text/plain": [
       "      COUNTYFP  NEVER  RARELY  SOMETIMES  FREQUENTLY  ALWAYS  mask_use_score\n",
       "1889     36123  0.000   0.006      0.023       0.087   0.884           3.849\n",
       "202       6033  0.003   0.004      0.007       0.136   0.849           3.822\n",
       "2627     48209  0.000   0.007      0.022       0.115   0.855           3.816"
      ]
     },
     "metadata": {},
     "output_type": "display_data"
    }
   ],
   "source": [
    "mask_use['mask_use_score']=mask_use['NEVER']*0 + mask_use['RARELY']*1 + mask_use['SOMETIMES']*2+\\\n",
    "                           mask_use['FREQUENTLY']*3 + mask_use['ALWAYS']*4\n",
    "mask_use=mask_use.sort_values(by='mask_use_score',ascending=False)\n",
    "display(mask_use[:3])"
   ]
  },
  {
   "cell_type": "markdown",
   "id": "555bf79e",
   "metadata": {},
   "source": [
    "Let's observe the mask_use_score."
   ]
  },
  {
   "cell_type": "code",
   "execution_count": 19,
   "id": "0a8d2ce0",
   "metadata": {
    "scrolled": true
   },
   "outputs": [
    {
     "data": {
      "image/png": "[encoded data removed]",
      "text/plain": [
       "<Figure size 504x360 with 1 Axes>"
      ]
     },
     "metadata": {
      "needs_background": "light"
     },
     "output_type": "display_data"
    }
   ],
   "source": [
    "plt.figure(figsize=(7,5))\n",
    "plt.hist(mask_use['mask_use_score'],bins=51,color='deepskyblue')\n",
    "plt.title(\"Overall Mask Use Score of US in July 2020\")\n",
    "plt.xlabel('Mask_use score')\n",
    "plt.ylabel('Number of county')\n",
    "plt.show()"
   ]
  },
  {
   "cell_type": "markdown",
   "id": "80ac0f1a",
   "metadata": {},
   "source": [
    "This is a good histogram, and we can see the majority is with 2.5 to 3.5, most states with mask use score of 3 which means people usually wear fask covering. "
   ]
  },
  {
   "cell_type": "markdown",
   "id": "3df6c77e",
   "metadata": {},
   "source": [
    "The data is given by county-level and we are only insterested in the state-level, so we have to find out which state does each county belongs to in this dataframe. Since the county's FIPS code not always in 5 digits, so we want to first format the county' FIPS code to 5 digits then extract the first 2 digits where it represent the belonging state, and save as \"state_fips\" column. Let's print a sample row to visualize the data."
   ]
  },
  {
   "cell_type": "code",
   "execution_count": 20,
   "id": "d2642345",
   "metadata": {
    "scrolled": true
   },
   "outputs": [
    {
     "data": {
      "text/html": [
       "<div>\n",
       "<style scoped>\n",
       "    .dataframe tbody tr th:only-of-type {\n",
       "        vertical-align: middle;\n",
       "    }\n",
       "\n",
       "    .dataframe tbody tr th {\n",
       "        vertical-align: top;\n",
       "    }\n",
       "\n",
       "    .dataframe thead th {\n",
       "        text-align: right;\n",
       "    }\n",
       "</style>\n",
       "<table border=\"1\" class=\"dataframe\">\n",
       "  <thead>\n",
       "    <tr style=\"text-align: right;\">\n",
       "      <th></th>\n",
       "      <th>COUNTYFP</th>\n",
       "      <th>NEVER</th>\n",
       "      <th>RARELY</th>\n",
       "      <th>SOMETIMES</th>\n",
       "      <th>FREQUENTLY</th>\n",
       "      <th>ALWAYS</th>\n",
       "      <th>mask_use_score</th>\n",
       "      <th>state_fips</th>\n",
       "    </tr>\n",
       "  </thead>\n",
       "  <tbody>\n",
       "    <tr>\n",
       "      <th>1889</th>\n",
       "      <td>36123</td>\n",
       "      <td>0.0</td>\n",
       "      <td>0.006</td>\n",
       "      <td>0.023</td>\n",
       "      <td>0.087</td>\n",
       "      <td>0.884</td>\n",
       "      <td>3.849</td>\n",
       "      <td>36</td>\n",
       "    </tr>\n",
       "  </tbody>\n",
       "</table>\n",
       "</div>"
      ],
      "text/plain": [
       "     COUNTYFP  NEVER  RARELY  SOMETIMES  FREQUENTLY  ALWAYS  mask_use_score  \\\n",
       "1889    36123    0.0   0.006      0.023       0.087   0.884           3.849   \n",
       "\n",
       "     state_fips  \n",
       "1889         36  "
      ]
     },
     "metadata": {},
     "output_type": "display_data"
    }
   ],
   "source": [
    "mask_use['COUNTYFP']=mask_use['COUNTYFP'].astype(str).str.zfill(5)\n",
    "mask_use['state_fips']=mask_use['COUNTYFP'].astype(str).str[:2]\n",
    "display(mask_use[:1])"
   ]
  },
  {
   "cell_type": "markdown",
   "id": "9015670d",
   "metadata": {},
   "source": [
    "Then we want to groupy by each states and save the average of the county's mask use score of the state as the state's mask use socre. Let's print a sample row to visualize the data."
   ]
  },
  {
   "cell_type": "code",
   "execution_count": 21,
   "id": "e1904911",
   "metadata": {
    "scrolled": true
   },
   "outputs": [
    {
     "data": {
      "text/html": [
       "<div>\n",
       "<style scoped>\n",
       "    .dataframe tbody tr th:only-of-type {\n",
       "        vertical-align: middle;\n",
       "    }\n",
       "\n",
       "    .dataframe tbody tr th {\n",
       "        vertical-align: top;\n",
       "    }\n",
       "\n",
       "    .dataframe thead th {\n",
       "        text-align: right;\n",
       "    }\n",
       "</style>\n",
       "<table border=\"1\" class=\"dataframe\">\n",
       "  <thead>\n",
       "    <tr style=\"text-align: right;\">\n",
       "      <th></th>\n",
       "      <th>state_fips</th>\n",
       "      <th>NEVER</th>\n",
       "      <th>RARELY</th>\n",
       "      <th>SOMETIMES</th>\n",
       "      <th>FREQUENTLY</th>\n",
       "      <th>ALWAYS</th>\n",
       "      <th>mask_use_score</th>\n",
       "    </tr>\n",
       "  </thead>\n",
       "  <tbody>\n",
       "    <tr>\n",
       "      <th>0</th>\n",
       "      <td>01</td>\n",
       "      <td>0.081567</td>\n",
       "      <td>0.08109</td>\n",
       "      <td>0.146612</td>\n",
       "      <td>0.215343</td>\n",
       "      <td>0.475313</td>\n",
       "      <td>2.921597</td>\n",
       "    </tr>\n",
       "  </tbody>\n",
       "</table>\n",
       "</div>"
      ],
      "text/plain": [
       "  state_fips     NEVER   RARELY  SOMETIMES  FREQUENTLY    ALWAYS  \\\n",
       "0         01  0.081567  0.08109   0.146612    0.215343  0.475313   \n",
       "\n",
       "   mask_use_score  \n",
       "0        2.921597  "
      ]
     },
     "metadata": {},
     "output_type": "display_data"
    }
   ],
   "source": [
    "mask_use=mask_use.groupby(by='state_fips', as_index=False).mean()\n",
    "display(mask_use[:1])"
   ]
  },
  {
   "cell_type": "markdown",
   "id": "fcc5ba34",
   "metadata": {},
   "source": [
    "Now let's re-organize the dataframe and add the name of each state by it's state_fips code. Let's only keep the state name and mask_use_score in a new dataframe \"mask_df\", and sort the result in in descending order of mask_use_score. Let's print the first 5 rows to see the states with wear the most mask according to the survey's estimation."
   ]
  },
  {
   "cell_type": "code",
   "execution_count": 22,
   "id": "54bc8027",
   "metadata": {
    "scrolled": true
   },
   "outputs": [
    {
     "data": {
      "text/html": [
       "<div>\n",
       "<style scoped>\n",
       "    .dataframe tbody tr th:only-of-type {\n",
       "        vertical-align: middle;\n",
       "    }\n",
       "\n",
       "    .dataframe tbody tr th {\n",
       "        vertical-align: top;\n",
       "    }\n",
       "\n",
       "    .dataframe thead th {\n",
       "        text-align: right;\n",
       "    }\n",
       "</style>\n",
       "<table border=\"1\" class=\"dataframe\">\n",
       "  <thead>\n",
       "    <tr style=\"text-align: right;\">\n",
       "      <th></th>\n",
       "      <th>state</th>\n",
       "      <th>mask_use_score</th>\n",
       "    </tr>\n",
       "  </thead>\n",
       "  <tbody>\n",
       "    <tr>\n",
       "      <th>39</th>\n",
       "      <td>Rhode Island</td>\n",
       "      <td>3.705600</td>\n",
       "    </tr>\n",
       "    <tr>\n",
       "      <th>11</th>\n",
       "      <td>Hawaii</td>\n",
       "      <td>3.695400</td>\n",
       "    </tr>\n",
       "    <tr>\n",
       "      <th>7</th>\n",
       "      <td>Delaware</td>\n",
       "      <td>3.685667</td>\n",
       "    </tr>\n",
       "    <tr>\n",
       "      <th>21</th>\n",
       "      <td>Massachusetts</td>\n",
       "      <td>3.674643</td>\n",
       "    </tr>\n",
       "    <tr>\n",
       "      <th>6</th>\n",
       "      <td>Connecticut</td>\n",
       "      <td>3.627375</td>\n",
       "    </tr>\n",
       "  </tbody>\n",
       "</table>\n",
       "</div>"
      ],
      "text/plain": [
       "            state  mask_use_score\n",
       "39   Rhode Island        3.705600\n",
       "11         Hawaii        3.695400\n",
       "7        Delaware        3.685667\n",
       "21  Massachusetts        3.674643\n",
       "6     Connecticut        3.627375"
      ]
     },
     "execution_count": 22,
     "metadata": {},
     "output_type": "execute_result"
    }
   ],
   "source": [
    "mask_use=mask_use.merge(state_FIPS,left_on='state_fips', right_on='fips')\n",
    "mask_df=mask_use[['state','mask_use_score']].sort_values(by='mask_use_score',ascending=False)\n",
    "mask_df.head(5)"
   ]
  },
  {
   "cell_type": "markdown",
   "id": "b9d0ced6",
   "metadata": {},
   "source": [
    "The five states have highest mask-use score, or use the most mask are Rhode Island, Hawaii, Delaware, Massachusetts and Connecticut. Now let's observe the mask_use_score data per each state."
   ]
  },
  {
   "cell_type": "code",
   "execution_count": 23,
   "id": "d24a3c09",
   "metadata": {},
   "outputs": [
    {
     "data": {
      "text/plain": [
       "count    51.000000\n",
       "mean      3.090158\n",
       "std       0.387781\n",
       "min       2.240283\n",
       "25%       2.817213\n",
       "50%       3.076552\n",
       "75%       3.358323\n",
       "max       3.705600\n",
       "Name: mask_use_score, dtype: float64"
      ]
     },
     "execution_count": 23,
     "metadata": {},
     "output_type": "execute_result"
    }
   ],
   "source": [
    "mask_df['mask_use_score'].describe()"
   ]
  },
  {
   "cell_type": "markdown",
   "id": "5aded70a",
   "metadata": {},
   "source": [
    "Observed there are 51 lines of the data, so we have survey for mask use rate of 51 states, maximum is 3.71, minimum is 2.24, and average is 3.09."
   ]
  },
  {
   "cell_type": "markdown",
   "id": "10f26041",
   "metadata": {},
   "source": [
    "#### Part IV. Density_df"
   ]
  },
  {
   "cell_type": "markdown",
   "id": "7ea175f3",
   "metadata": {},
   "source": [
    "For the population density by state's data, let's first rename the columns to more clear terms, then only leave the state name and it's population density in the dataframe, and sort by the density in descending order."
   ]
  },
  {
   "cell_type": "code",
   "execution_count": 24,
   "id": "e700edb3",
   "metadata": {},
   "outputs": [
    {
     "data": {
      "text/html": [
       "<div>\n",
       "<style scoped>\n",
       "    .dataframe tbody tr th:only-of-type {\n",
       "        vertical-align: middle;\n",
       "    }\n",
       "\n",
       "    .dataframe tbody tr th {\n",
       "        vertical-align: top;\n",
       "    }\n",
       "\n",
       "    .dataframe thead th {\n",
       "        text-align: right;\n",
       "    }\n",
       "</style>\n",
       "<table border=\"1\" class=\"dataframe\">\n",
       "  <thead>\n",
       "    <tr style=\"text-align: right;\">\n",
       "      <th></th>\n",
       "      <th>state</th>\n",
       "      <th>population_density</th>\n",
       "    </tr>\n",
       "  </thead>\n",
       "  <tbody>\n",
       "    <tr>\n",
       "      <th>8</th>\n",
       "      <td>District of Columbia</td>\n",
       "      <td>9856.5</td>\n",
       "    </tr>\n",
       "    <tr>\n",
       "      <th>30</th>\n",
       "      <td>New Jersey</td>\n",
       "      <td>1195.5</td>\n",
       "    </tr>\n",
       "    <tr>\n",
       "      <th>51</th>\n",
       "      <td>Puerto Rico</td>\n",
       "      <td>1088.2</td>\n",
       "    </tr>\n",
       "    <tr>\n",
       "      <th>39</th>\n",
       "      <td>Rhode Island</td>\n",
       "      <td>1018.1</td>\n",
       "    </tr>\n",
       "    <tr>\n",
       "      <th>21</th>\n",
       "      <td>Massachusetts</td>\n",
       "      <td>839.4</td>\n",
       "    </tr>\n",
       "  </tbody>\n",
       "</table>\n",
       "</div>"
      ],
      "text/plain": [
       "                   state  population_density\n",
       "8   District of Columbia              9856.5\n",
       "30            New Jersey              1195.5\n",
       "51           Puerto Rico              1088.2\n",
       "39          Rhode Island              1018.1\n",
       "21         Massachusetts               839.4"
      ]
     },
     "execution_count": 24,
     "metadata": {},
     "output_type": "execute_result"
    }
   ],
   "source": [
    "density_df=density_df.rename(columns={'GEO.display-label':'state','Density per square mile of land area':'population_density'})\n",
    "density_df=density_df[['state','population_density']].sort_values(by='population_density',ascending=False)\n",
    "density_df.head(5)"
   ]
  },
  {
   "cell_type": "markdown",
   "id": "fa88496c",
   "metadata": {},
   "source": [
    "We have observed the population density data, and found that the District of Columbia has a lot more density than the rest, so this could be an outlier data point. Let's update the dataframe without this outlier datapoint, then observe the some properties of this dataset. Lastly, we will create a box plot for visualization."
   ]
  },
  {
   "cell_type": "code",
   "execution_count": 25,
   "id": "a96d8b0b",
   "metadata": {
    "scrolled": true
   },
   "outputs": [
    {
     "data": {
      "text/html": [
       "<div>\n",
       "<style scoped>\n",
       "    .dataframe tbody tr th:only-of-type {\n",
       "        vertical-align: middle;\n",
       "    }\n",
       "\n",
       "    .dataframe tbody tr th {\n",
       "        vertical-align: top;\n",
       "    }\n",
       "\n",
       "    .dataframe thead th {\n",
       "        text-align: right;\n",
       "    }\n",
       "</style>\n",
       "<table border=\"1\" class=\"dataframe\">\n",
       "  <thead>\n",
       "    <tr style=\"text-align: right;\">\n",
       "      <th></th>\n",
       "      <th>population_density</th>\n",
       "    </tr>\n",
       "  </thead>\n",
       "  <tbody>\n",
       "    <tr>\n",
       "      <th>count</th>\n",
       "      <td>51.000000</td>\n",
       "    </tr>\n",
       "    <tr>\n",
       "      <th>mean</th>\n",
       "      <td>212.476471</td>\n",
       "    </tr>\n",
       "    <tr>\n",
       "      <th>std</th>\n",
       "      <td>287.141026</td>\n",
       "    </tr>\n",
       "    <tr>\n",
       "      <th>min</th>\n",
       "      <td>1.200000</td>\n",
       "    </tr>\n",
       "    <tr>\n",
       "      <th>25%</th>\n",
       "      <td>45.800000</td>\n",
       "    </tr>\n",
       "    <tr>\n",
       "      <th>50%</th>\n",
       "      <td>101.200000</td>\n",
       "    </tr>\n",
       "    <tr>\n",
       "      <th>75%</th>\n",
       "      <td>221.450000</td>\n",
       "    </tr>\n",
       "    <tr>\n",
       "      <th>max</th>\n",
       "      <td>1195.500000</td>\n",
       "    </tr>\n",
       "  </tbody>\n",
       "</table>\n",
       "</div>"
      ],
      "text/plain": [
       "       population_density\n",
       "count           51.000000\n",
       "mean           212.476471\n",
       "std            287.141026\n",
       "min              1.200000\n",
       "25%             45.800000\n",
       "50%            101.200000\n",
       "75%            221.450000\n",
       "max           1195.500000"
      ]
     },
     "execution_count": 25,
     "metadata": {},
     "output_type": "execute_result"
    }
   ],
   "source": [
    "density_df=density_df[density_df['state'] != 'District of Columbia']\n",
    "density_df.describe()"
   ]
  },
  {
   "cell_type": "code",
   "execution_count": 26,
   "id": "4d2c342e",
   "metadata": {},
   "outputs": [
    {
     "data": {
      "text/plain": [
       "Text(0.5, 1.0, \"Box plot of US States' population density\")"
      ]
     },
     "execution_count": 26,
     "metadata": {},
     "output_type": "execute_result"
    },
    {
     "data": {
      "image/png": "[encoded data removed]",
      "text/plain": [
       "<Figure size 504x360 with 1 Axes>"
      ]
     },
     "metadata": {
      "needs_background": "light"
     },
     "output_type": "display_data"
    }
   ],
   "source": [
    "fig=density_df.boxplot(column=['population_density'],figsize=(7,5))\n",
    "fig.set_title(\"Box plot of US States' population density\")"
   ]
  },
  {
   "cell_type": "markdown",
   "id": "cc47d706",
   "metadata": {},
   "source": [
    "We have saved the lower and upper quantile density number as 45 and 221 from the property shown above. We will consider a state with a lower than 45 population density as \"low_density_state\", and a higher than 221 population density as \"high_density_state\". "
   ]
  },
  {
   "cell_type": "markdown",
   "id": "fe30deaf",
   "metadata": {},
   "source": [
    "#### Part V. Total_df"
   ]
  },
  {
   "cell_type": "markdown",
   "id": "07afd776",
   "metadata": {},
   "source": [
    "The last step for data preprocessing is to combine the increase_rate_df, mask_df, and density_df to one df called \"total_df\"."
   ]
  },
  {
   "cell_type": "code",
   "execution_count": 27,
   "id": "0fadb756",
   "metadata": {
    "scrolled": true
   },
   "outputs": [
    {
     "data": {
      "text/html": [
       "<div>\n",
       "<style scoped>\n",
       "    .dataframe tbody tr th:only-of-type {\n",
       "        vertical-align: middle;\n",
       "    }\n",
       "\n",
       "    .dataframe tbody tr th {\n",
       "        vertical-align: top;\n",
       "    }\n",
       "\n",
       "    .dataframe thead th {\n",
       "        text-align: right;\n",
       "    }\n",
       "</style>\n",
       "<table border=\"1\" class=\"dataframe\">\n",
       "  <thead>\n",
       "    <tr style=\"text-align: right;\">\n",
       "      <th></th>\n",
       "      <th>state</th>\n",
       "      <th>mask_use_score</th>\n",
       "      <th>May_increase_rate</th>\n",
       "      <th>June_increase_rate</th>\n",
       "      <th>July_increase_rate</th>\n",
       "      <th>total_increase_rate</th>\n",
       "      <th>population_density</th>\n",
       "    </tr>\n",
       "  </thead>\n",
       "  <tbody>\n",
       "    <tr>\n",
       "      <th>15</th>\n",
       "      <td>Arizona</td>\n",
       "      <td>3.304533</td>\n",
       "      <td>1.503893</td>\n",
       "      <td>2.945684</td>\n",
       "      <td>1.068970</td>\n",
       "      <td>20.867370</td>\n",
       "      <td>56.3</td>\n",
       "    </tr>\n",
       "    <tr>\n",
       "      <th>20</th>\n",
       "      <td>Texas</td>\n",
       "      <td>3.230295</td>\n",
       "      <td>1.141388</td>\n",
       "      <td>1.522707</td>\n",
       "      <td>1.534463</td>\n",
       "      <td>13.603190</td>\n",
       "      <td>96.3</td>\n",
       "    </tr>\n",
       "    <tr>\n",
       "      <th>28</th>\n",
       "      <td>South Carolina</td>\n",
       "      <td>2.991196</td>\n",
       "      <td>0.895334</td>\n",
       "      <td>1.996296</td>\n",
       "      <td>1.347530</td>\n",
       "      <td>13.224353</td>\n",
       "      <td>153.9</td>\n",
       "    </tr>\n",
       "    <tr>\n",
       "      <th>22</th>\n",
       "      <td>Florida</td>\n",
       "      <td>3.191313</td>\n",
       "      <td>0.617368</td>\n",
       "      <td>1.682517</td>\n",
       "      <td>1.958557</td>\n",
       "      <td>12.547753</td>\n",
       "      <td>350.6</td>\n",
       "    </tr>\n",
       "    <tr>\n",
       "      <th>33</th>\n",
       "      <td>Arkansas</td>\n",
       "      <td>2.877320</td>\n",
       "      <td>1.191239</td>\n",
       "      <td>1.791482</td>\n",
       "      <td>1.005520</td>\n",
       "      <td>11.843202</td>\n",
       "      <td>56.0</td>\n",
       "    </tr>\n",
       "  </tbody>\n",
       "</table>\n",
       "</div>"
      ],
      "text/plain": [
       "             state  mask_use_score  May_increase_rate  June_increase_rate  \\\n",
       "15         Arizona        3.304533           1.503893            2.945684   \n",
       "20           Texas        3.230295           1.141388            1.522707   \n",
       "28  South Carolina        2.991196           0.895334            1.996296   \n",
       "22         Florida        3.191313           0.617368            1.682517   \n",
       "33        Arkansas        2.877320           1.191239            1.791482   \n",
       "\n",
       "    July_increase_rate  total_increase_rate  population_density  \n",
       "15            1.068970            20.867370                56.3  \n",
       "20            1.534463            13.603190                96.3  \n",
       "28            1.347530            13.224353               153.9  \n",
       "22            1.958557            12.547753               350.6  \n",
       "33            1.005520            11.843202                56.0  "
      ]
     },
     "execution_count": 27,
     "metadata": {},
     "output_type": "execute_result"
    }
   ],
   "source": [
    "total_df=mask_df.merge(increase_rate_df,on='state').merge(density_df,on='state').sort_values(by='total_increase_rate',ascending=False)\n",
    "low_density_states=total_df[total_df['population_density']<=45]\n",
    "high_density_states=total_df[total_df['population_density']>=221]\n",
    "total_df.head(5)"
   ]
  },
  {
   "cell_type": "markdown",
   "id": "1b5bbdcb",
   "metadata": {},
   "source": [
    "We have completed data cleaning and preprocessing, and let's move on to analysis now."
   ]
  },
  {
   "cell_type": "markdown",
   "id": "f6c14b41",
   "metadata": {},
   "source": [
    "### 2. Data analysis and visualization"
   ]
  },
  {
   "cell_type": "markdown",
   "id": "f604ceba",
   "metadata": {},
   "source": [
    "#### Part I. Mask use score vs Covid increase rate from May to July"
   ]
  },
  {
   "cell_type": "markdown",
   "id": "ddb3c546",
   "metadata": {},
   "source": [
    "We want to analyze if there is any linear relationship between mask use rate/score and COVID cases increase rate, because using one month's dataset could be not as acurate, we will run the linear regression model with one indepdent variable: mask_use_score, and four dependent variables: May's rate, June's rate, July's rate, total rate. My hypothesis would be an obvious negative relationship -- wear a mask could definitly decrease the chance of getting COVID."
   ]
  },
  {
   "cell_type": "markdown",
   "id": "9479c094",
   "metadata": {},
   "source": [
    "Let's first observe the scatter plots of mask_use_score versus the increase rate in May, then run a least square regression model (ols) to check our prediction."
   ]
  },
  {
   "cell_type": "code",
   "execution_count": 28,
   "id": "203414b0",
   "metadata": {
    "scrolled": false
   },
   "outputs": [
    {
     "data": {
      "image/png": "[encoded data removed]",
      "text/plain": [
       "<Figure size 504x360 with 1 Axes>"
      ]
     },
     "metadata": {
      "needs_background": "light"
     },
     "output_type": "display_data"
    }
   ],
   "source": [
    "x=total_df['mask_use_score']\n",
    "y1=total_df['May_increase_rate']\n",
    "# Plot the regression line\n",
    "m1, b1 = np.polyfit(x, y1, 1)  #m = slope, b=intercept\n",
    "plt.figure(figsize=(7,5))\n",
    "plt.plot(x, m1*x+b1, color='violet',linewidth=1)\n",
    "# Plot the data points\n",
    "plt.scatter(x,y1,color='gold')\n",
    "\n",
    "plt.title(\"Mask use score vs. COVID increase rate in May 2020\")\n",
    "plt.ylabel('May COVID increase Rate')\n",
    "plt.xlabel('Mask use score')\n",
    "\n",
    "plt.show()"
   ]
  },
  {
   "cell_type": "code",
   "execution_count": 29,
   "id": "cb40c78e",
   "metadata": {
    "scrolled": false
   },
   "outputs": [
    {
     "name": "stdout",
     "output_type": "stream",
     "text": [
      "                            OLS Regression Results                            \n",
      "==============================================================================\n",
      "Dep. Variable:      May_increase_rate   R-squared:                       0.081\n",
      "Model:                            OLS   Adj. R-squared:                  0.062\n",
      "Method:                 Least Squares   F-statistic:                     4.244\n",
      "Date:                Fri, 10 Dec 2021   Prob (F-statistic):             0.0448\n",
      "Time:                        07:18:11   Log-Likelihood:                -39.419\n",
      "No. Observations:                  50   AIC:                             82.84\n",
      "Df Residuals:                      48   BIC:                             86.66\n",
      "Df Model:                           1                                         \n",
      "Covariance Type:            nonrobust                                         \n",
      "==================================================================================\n",
      "                     coef    std err          t      P>|t|      [0.025      0.975]\n",
      "----------------------------------------------------------------------------------\n",
      "const              2.2000      0.627      3.511      0.001       0.940       3.460\n",
      "mask_use_score    -0.4160      0.202     -2.060      0.045      -0.822      -0.010\n",
      "==============================================================================\n",
      "Omnibus:                       25.379   Durbin-Watson:                   1.468\n",
      "Prob(Omnibus):                  0.000   Jarque-Bera (JB):               57.039\n",
      "Skew:                           1.395   Prob(JB):                     4.11e-13\n",
      "Kurtosis:                       7.426   Cond. No.                         27.9\n",
      "==============================================================================\n",
      "\n",
      "Notes:\n",
      "[1] Standard Errors assume that the covariance matrix of the errors is correctly specified.\n"
     ]
    },
    {
     "name": "stderr",
     "output_type": "stream",
     "text": [
      "/usr/lib/python3.7/site-packages/statsmodels/tsa/tsatools.py:142: FutureWarning: In a future version of pandas all arguments of concat except for the argument 'objs' will be keyword-only\n",
      "  x = pd.concat(x[::order], 1)\n"
     ]
    }
   ],
   "source": [
    "x1=sm.add_constant(x)\n",
    "model = sm.OLS(y1,x1).fit()\n",
    "print(model.summary())"
   ]
  },
  {
   "cell_type": "markdown",
   "id": "a7bc884d",
   "metadata": {},
   "source": [
    "We have observed our regression line has a decreasing slope, which means mask_use_score has a negative correlation - the more mask your are wearing, the slower COVID cases increase rate is. However, our R-square (0.081) is very small which indicates there is no strong relationship between our independent and dependent variable. Our standard error(0.202) is relatively large, and P value (0.045) which indicated the fit is not very good.\\\n",
    "\\\n",
    "Let's move to June to see if there is any better fit."
   ]
  },
  {
   "cell_type": "code",
   "execution_count": 30,
   "id": "6ee07f45",
   "metadata": {},
   "outputs": [
    {
     "data": {
      "image/png": "[encoded data removed]",
      "text/plain": [
       "<Figure size 504x360 with 1 Axes>"
      ]
     },
     "metadata": {
      "needs_background": "light"
     },
     "output_type": "display_data"
    }
   ],
   "source": [
    "y2=total_df['June_increase_rate']\n",
    "m2, b2 = np.polyfit(x, y2, 1)  #m = slope, b=intercept\n",
    "plt.figure(figsize=(7,5))\n",
    "plt.plot(x, m2*x+b2, color='magenta')\n",
    "plt.scatter(total_df[['mask_use_score']],total_df[['June_increase_rate']],color='tomato')\n",
    "plt.title(\"Mask use score vs. COVID increase rate in June 2020\")\n",
    "plt.ylabel('June COVID increase Rate')\n",
    "plt.xlabel('Mask use score')\n",
    "plt.show()\n"
   ]
  },
  {
   "cell_type": "code",
   "execution_count": 31,
   "id": "f8aca2ed",
   "metadata": {
    "scrolled": true
   },
   "outputs": [
    {
     "name": "stdout",
     "output_type": "stream",
     "text": [
      "                            OLS Regression Results                            \n",
      "==============================================================================\n",
      "Dep. Variable:     June_increase_rate   R-squared:                       0.025\n",
      "Model:                            OLS   Adj. R-squared:                  0.005\n",
      "Method:                 Least Squares   F-statistic:                     1.228\n",
      "Date:                Fri, 10 Dec 2021   Prob (F-statistic):              0.273\n",
      "Time:                        07:18:11   Log-Likelihood:                -42.574\n",
      "No. Observations:                  50   AIC:                             89.15\n",
      "Df Residuals:                      48   BIC:                             92.97\n",
      "Df Model:                           1                                         \n",
      "Covariance Type:            nonrobust                                         \n",
      "==================================================================================\n",
      "                     coef    std err          t      P>|t|      [0.025      0.975]\n",
      "----------------------------------------------------------------------------------\n",
      "const              1.4188      0.667      2.126      0.039       0.077       2.761\n",
      "mask_use_score    -0.2383      0.215     -1.108      0.273      -0.671       0.194\n",
      "==============================================================================\n",
      "Omnibus:                       30.223   Durbin-Watson:                   0.417\n",
      "Prob(Omnibus):                  0.000   Jarque-Bera (JB):               60.017\n",
      "Skew:                           1.837   Prob(JB):                     9.28e-14\n",
      "Kurtosis:                       6.912   Cond. No.                         27.9\n",
      "==============================================================================\n",
      "\n",
      "Notes:\n",
      "[1] Standard Errors assume that the covariance matrix of the errors is correctly specified.\n"
     ]
    }
   ],
   "source": [
    "model = sm.OLS(y2,x1)\n",
    "fit=model.fit()\n",
    "print(fit.summary())"
   ]
  },
  {
   "cell_type": "markdown",
   "id": "b673accf",
   "metadata": {},
   "source": [
    "The correlation between the mask score and June's increase rate is also not very strong, the R-square value is 0.025, standard error is 0.215, and P value is 0.273, which are even worse than the prediction in May. Now let's observe July's data."
   ]
  },
  {
   "cell_type": "code",
   "execution_count": 32,
   "id": "0c6c34ce",
   "metadata": {},
   "outputs": [
    {
     "data": {
      "image/png": "[encoded data removed]",
      "text/plain": [
       "<Figure size 504x360 with 1 Axes>"
      ]
     },
     "metadata": {
      "needs_background": "light"
     },
     "output_type": "display_data"
    }
   ],
   "source": [
    "y3=total_df['July_increase_rate']\n",
    "m3, b3 = np.polyfit(x, y3, 1)  #m = slope, b=intercept\n",
    "plt.figure(figsize=(7,5))\n",
    "plt.plot(x, m3*x+b3, color='darkviolet')\n",
    "plt.scatter(total_df[['mask_use_score']],total_df[['July_increase_rate']],color='brown')\n",
    "plt.title(\"Mask use score vs. COVID increase rate in July 2020\")\n",
    "plt.ylabel('July COVID increase Rate')\n",
    "plt.xlabel('Mask use score')\n",
    "plt.show()"
   ]
  },
  {
   "cell_type": "code",
   "execution_count": 33,
   "id": "95701f8a",
   "metadata": {},
   "outputs": [
    {
     "name": "stdout",
     "output_type": "stream",
     "text": [
      "                            OLS Regression Results                            \n",
      "==============================================================================\n",
      "Dep. Variable:     July_increase_rate   R-squared:                       0.155\n",
      "Model:                            OLS   Adj. R-squared:                  0.137\n",
      "Method:                 Least Squares   F-statistic:                     8.796\n",
      "Date:                Fri, 10 Dec 2021   Prob (F-statistic):            0.00469\n",
      "Time:                        07:18:11   Log-Likelihood:                -43.319\n",
      "No. Observations:                  50   AIC:                             90.64\n",
      "Df Residuals:                      48   BIC:                             94.46\n",
      "Df Model:                           1                                         \n",
      "Covariance Type:            nonrobust                                         \n",
      "==================================================================================\n",
      "                     coef    std err          t      P>|t|      [0.025      0.975]\n",
      "----------------------------------------------------------------------------------\n",
      "const              2.8336      0.677      4.183      0.000       1.471       4.196\n",
      "mask_use_score    -0.6475      0.218     -2.966      0.005      -1.086      -0.209\n",
      "==============================================================================\n",
      "Omnibus:                        6.909   Durbin-Watson:                   1.208\n",
      "Prob(Omnibus):                  0.032   Jarque-Bera (JB):                6.419\n",
      "Skew:                           0.874   Prob(JB):                       0.0404\n",
      "Kurtosis:                       3.167   Cond. No.                         27.9\n",
      "==============================================================================\n",
      "\n",
      "Notes:\n",
      "[1] Standard Errors assume that the covariance matrix of the errors is correctly specified.\n"
     ]
    }
   ],
   "source": [
    "model = sm.OLS(y3,x1).fit()\n",
    "print(model.summary())"
   ]
  },
  {
   "cell_type": "markdown",
   "id": "4bd55a13",
   "metadata": {},
   "source": [
    "We have see a stronger negative correlation in July, the R-square value is 0.155, p value is 0.005, and standard error is 0.218. This indiciates we are more confident to say that use mask can decrease the COVID increase rate by 0.64 (64%).\n",
    "\\\n",
    "Now, let's observe three graphs together."
   ]
  },
  {
   "cell_type": "code",
   "execution_count": 34,
   "id": "45ef8a3e",
   "metadata": {
    "scrolled": true
   },
   "outputs": [
    {
     "data": {
      "image/png": "[encoded data removed]",
      "text/plain": [
       "<Figure size 504x360 with 1 Axes>"
      ]
     },
     "metadata": {
      "needs_background": "light"
     },
     "output_type": "display_data"
    }
   ],
   "source": [
    "plt.figure(figsize=(7,5))\n",
    "#May plot\n",
    "plt.scatter(total_df[['mask_use_score']],total_df[['May_increase_rate']],color='gold')\n",
    "plt.plot(x, m1*x+b1, color='violet')\n",
    "#June plot\n",
    "plt.scatter(total_df[['mask_use_score']],total_df[['June_increase_rate']],color='tomato')\n",
    "plt.plot(x, m2*x+b2, color='magenta')\n",
    "#July plot\n",
    "plt.scatter(total_df[['mask_use_score']],total_df[['July_increase_rate']],color='brown')\n",
    "plt.plot(x, m3*x+b3, color='darkviolet')\n",
    "\n",
    "plt.title(\"Mask use score vs. COVID increase rate Combined\")\n",
    "plt.ylabel('COVID Increase Rate')\n",
    "plt.xlabel('Mask use score')\n",
    "plt.gca().legend(['May','June','July'])\n",
    "plt.show()"
   ]
  },
  {
   "cell_type": "markdown",
   "id": "4e2458e9",
   "metadata": {},
   "source": [
    "Even though there is not an obvious trend, we could see all three months have shown a pattern of higher mask use score, the less COVID increase rate there is. June's data could be affected by some other reasons, but July shows a more negative correlation than previous months."
   ]
  },
  {
   "cell_type": "code",
   "execution_count": 35,
   "id": "0a3f20c9",
   "metadata": {
    "scrolled": true
   },
   "outputs": [
    {
     "data": {
      "image/png": "[encoded data removed]",
      "text/plain": [
       "<Figure size 504x360 with 1 Axes>"
      ]
     },
     "metadata": {
      "needs_background": "light"
     },
     "output_type": "display_data"
    }
   ],
   "source": [
    "plt.figure(figsize=(7,5))\n",
    "x=total_df['mask_use_score']\n",
    "y=total_df['total_increase_rate']\n",
    "m, b = np.polyfit(x, y, 1)  #m = slope, b=intercept\n",
    "plt.plot(x, m*x+b, color='darkviolet')\n",
    "plt.scatter(total_df[['mask_use_score']],total_df[['total_increase_rate']],color='orange')\n",
    "plt.title(\"Mask use score vs. COVID increase rate\")\n",
    "plt.ylabel('COVID increase rate')\n",
    "plt.xlabel('Mask use score')\n",
    "plt.show()"
   ]
  },
  {
   "cell_type": "code",
   "execution_count": 36,
   "id": "ce8ccfd9",
   "metadata": {
    "scrolled": true
   },
   "outputs": [
    {
     "name": "stdout",
     "output_type": "stream",
     "text": [
      "                             OLS Regression Results                            \n",
      "===============================================================================\n",
      "Dep. Variable:     total_increase_rate   R-squared:                       0.067\n",
      "Model:                             OLS   Adj. R-squared:                  0.048\n",
      "Method:                  Least Squares   F-statistic:                     3.460\n",
      "Date:                 Fri, 10 Dec 2021   Prob (F-statistic):             0.0690\n",
      "Time:                         07:18:12   Log-Likelihood:                -140.80\n",
      "No. Observations:                   50   AIC:                             285.6\n",
      "Df Residuals:                       48   BIC:                             289.4\n",
      "Df Model:                            1                                         \n",
      "Covariance Type:             nonrobust                                         \n",
      "==================================================================================\n",
      "                     coef    std err          t      P>|t|      [0.025      0.975]\n",
      "----------------------------------------------------------------------------------\n",
      "const             14.3692      4.760      3.019      0.004       4.799      23.939\n",
      "mask_use_score    -2.8531      1.534     -1.860      0.069      -5.937       0.231\n",
      "==============================================================================\n",
      "Omnibus:                       24.764   Durbin-Watson:                   0.209\n",
      "Prob(Omnibus):                  0.000   Jarque-Bera (JB):               40.748\n",
      "Skew:                           1.590   Prob(JB):                     1.42e-09\n",
      "Kurtosis:                       6.073   Cond. No.                         27.9\n",
      "==============================================================================\n",
      "\n",
      "Notes:\n",
      "[1] Standard Errors assume that the covariance matrix of the errors is correctly specified.\n"
     ]
    }
   ],
   "source": [
    "model = sm.OLS(y,x1).fit()\n",
    "print(model.summary())"
   ]
  },
  {
   "cell_type": "markdown",
   "id": "31266dfb",
   "metadata": {},
   "source": [
    "By plotting the total increase rate, we can see that it is similiar to the predictions in May, June and July. There is an overall negative correlation, but the R square is relatively large so our confidence level is low. "
   ]
  },
  {
   "cell_type": "markdown",
   "id": "7c880542",
   "metadata": {},
   "source": [
    "#### Part II. Mask use score vs Covid increase rate with consideration of popuation density"
   ]
  },
  {
   "cell_type": "markdown",
   "id": "ab943643",
   "metadata": {},
   "source": [
    "Because we have not find a strong linear correlation from our mask use score to any of the increase rate, let's separate the state's data by state's population density. Let's start with less populated states where population density is less than 45 people per square miles."
   ]
  },
  {
   "cell_type": "code",
   "execution_count": 37,
   "id": "5db3538a",
   "metadata": {
    "scrolled": true
   },
   "outputs": [
    {
     "data": {
      "image/png": "[encoded data removed]",
      "text/plain": [
       "<Figure size 504x360 with 1 Axes>"
      ]
     },
     "metadata": {
      "needs_background": "light"
     },
     "output_type": "display_data"
    }
   ],
   "source": [
    "x=low_density_states['mask_use_score']\n",
    "y=low_density_states['total_increase_rate']\n",
    "m, b = np.polyfit(x, y, 1)  #m = slope, b=intercept\n",
    "plt.figure(figsize=(7,5))\n",
    "plt.plot(x, m*x+b, color='darkviolet')\n",
    "\n",
    "plt.scatter(low_density_states[['mask_use_score']],low_density_states[['total_increase_rate']],color='orange')\n",
    "plt.title(\"Mask use score vs. COVID increase rate in less populated states\")\n",
    "plt.ylabel('COVID increase rate')\n",
    "plt.xlabel('Mask use score')\n",
    "plt.show()\n"
   ]
  },
  {
   "cell_type": "markdown",
   "id": "6bc25d06",
   "metadata": {},
   "source": [
    "By looking at the scatterplot, there is a positive correlation overall, but because there is no obvious trend and datapoints are far from the regression line, we know the mask use score is not a good indication of the total increase rate in less populated states. \n",
    "\n",
    "Now let's check the states with high population density (greater than 221 people per square miles)"
   ]
  },
  {
   "cell_type": "code",
   "execution_count": 38,
   "id": "86ae87ad",
   "metadata": {},
   "outputs": [
    {
     "data": {
      "image/png": "[encoded data removed]",
      "text/plain": [
       "<Figure size 504x360 with 1 Axes>"
      ]
     },
     "metadata": {
      "needs_background": "light"
     },
     "output_type": "display_data"
    }
   ],
   "source": [
    "x=high_density_states['mask_use_score']\n",
    "y=high_density_states['total_increase_rate']\n",
    "m, b = np.polyfit(x, y, 1)  #m = slope, b=intercept\n",
    "plt.figure(figsize=(7,5))\n",
    "plt.plot(x, m*x+b, color='darkviolet')\n",
    "\n",
    "plt.scatter(high_density_states[['mask_use_score']],high_density_states[['total_increase_rate']],color='orange')\n",
    "plt.title(\"Mask use score vs. COVID increase rate in more populated states\")\n",
    "plt.ylabel('COVID increase rate')\n",
    "plt.xlabel('Mask use score')\n",
    "plt.show()"
   ]
  },
  {
   "cell_type": "markdown",
   "id": "1c368532",
   "metadata": {},
   "source": [
    "Even though the datapoints are also very scattered, we have see an obvious trend, the negative correlation between mask_use_score and covid increase rate is more obvious in high populated states.\n",
    "\n",
    "Lastly, let's observe a heatmap for the correlation between mask use score, four case increase rates, and population density.  \n"
   ]
  },
  {
   "cell_type": "code",
   "execution_count": 39,
   "id": "6d971794",
   "metadata": {
    "scrolled": true
   },
   "outputs": [
    {
     "data": {
      "image/png": "[encoded data removed]",
      "text/plain": [
       "<Figure size 504x360 with 2 Axes>"
      ]
     },
     "metadata": {
      "needs_background": "light"
     },
     "output_type": "display_data"
    }
   ],
   "source": [
    "corr = total_df.corr() # train is a pandas dataframe \n",
    "plt.figure(figsize = (7, 5))\n",
    "heatmap(corr, cmap = 'coolwarm')\n",
    "plt.title('Correlation heatmap for all variables')\n",
    "plt.show()"
   ]
  },
  {
   "cell_type": "markdown",
   "id": "a98a0109",
   "metadata": {},
   "source": [
    "From the heatmap shown above, we actually find the mask use score is mostly correlated with the state's population density, then it's the July's case increase rate, and lastly it's the overall increase rate. This make sense because the survey was conducted in July, the mask-use-score is more accurate for July. Maybe we can do another research about the how does mask score related to population density in the future. We also observed that the total increase rate is largely correlated to June and July's data, one possible explanation could be that June has the most signicate increase rate."
   ]
  },
  {
   "cell_type": "markdown",
   "id": "a1623489",
   "metadata": {},
   "source": [
    "### 3. Conclusion and future improvement"
   ]
  },
  {
   "cell_type": "markdown",
   "id": "dcf58099",
   "metadata": {},
   "source": [
    "Through this analysis, we cannot determine if there is any linear relationship between using face-mask and chance of getting covid. Because the coefficient of determination (R square) is low in our least square model, there is not signiciant correlation between our independent varibale- mask use score, and the depdent variable- increase rate of COVID cases from May to July 2020. However, we do see an overall negative correlation between mask-use rate and Covid cases' increase rate in our plots, and the trend become more obvious when states are more populated."
   ]
  },
  {
   "cell_type": "markdown",
   "id": "58cd5016",
   "metadata": {},
   "source": [
    "There could many possible reasons of why there is no a signicant correlation. For example, during the summer season June to July, people may going out more which cause the increase rate to went up, or the survey may not be a good representation of how well people are actually using mask, or people may not wear mask properly by following the CDC guidelines."
   ]
  },
  {
   "cell_type": "markdown",
   "id": "0e277e02",
   "metadata": {},
   "source": [
    "There are many other factors could affect on the COVID cases' growth rate, and generalizing our data to state-level could cause error. If I were to conduct this research analysis again and trying to improve it, I will look the data in county-level, such as separate the highest populated cities and lowest populated cities, and run the regression analysis to see the impact. I will also consider some major event happening date, such as a new variance has been found, or when some states have enforced different mask policies."
   ]
  }
 ],
 "metadata": {
  "kernelspec": {
   "display_name": "Python 3 (ipykernel)",
   "language": "python",
   "name": "python3"
  },
  "language_info": {
   "codemirror_mode": {
    "name": "ipython",
    "version": 3
   },
   "file_extension": ".py",
   "mimetype": "text/x-python",
   "name": "python",
   "nbconvert_exporter": "python",
   "pygments_lexer": "ipython3",
   "version": "3.9.7"
  }
 },
 "nbformat": 4,
 "nbformat_minor": 5
}
